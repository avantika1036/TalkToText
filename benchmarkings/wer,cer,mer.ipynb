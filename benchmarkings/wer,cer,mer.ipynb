{
 "cells": [
  {
   "cell_type": "code",
   "execution_count": 1,
   "id": "aaa81566-c2e8-4de3-b77c-5da9bbe99aa8",
   "metadata": {},
   "outputs": [],
   "source": [
    "import whisper\n",
    "import warnings as w\n",
    "w.filterwarnings('ignore')"
   ]
  },
  {
   "cell_type": "code",
   "execution_count": 31,
   "id": "e4117dcd-4004-4f2b-b608-a6b11a492cb4",
   "metadata": {},
   "outputs": [
    {
     "name": "stderr",
     "output_type": "stream",
     "text": [
      "python(48942) MallocStackLogging: can't turn off malloc stack logging because it was not enabled.\n"
     ]
    },
    {
     "name": "stdout",
     "output_type": "stream",
     "text": [
      "[00:00.000 --> 00:12.640]  Good morning, everyone. I'm Dr. Alicia Raymond. And today is October 15, 2023. We'll begin the seminar at 9.45am sharp.\n",
      "[00:12.640 --> 00:21.120]  So please be seated by then. The topic ethics in artificial intelligence will be discussed in three parts.\n",
      "[00:21.120 --> 00:27.440]  Each lasting approximately 25 minutes. Make sure to review chapter 7.\n",
      "[00:27.440 --> 00:30.720]  Buies in machine learning models before we begin.\n",
      "[00:31.520 --> 00:38.160]  Remember, the assignment deadline has been extended to November 2. You'll need to submit your\n",
      "[00:38.160 --> 00:45.520]  reports via the university portal. For attendance, please sign the sheet being passed around by Benjamin\n",
      "[00:45.520 --> 00:53.680]  O'Connor from the Department of Computer. Signs. If you have any questions, feel free to reach out to\n",
      "[00:53.680 --> 00:58.000]  me via email. Thank you. And let's get started.\n",
      "Predicted:  Good morning, everyone. I'm Dr. Alicia Raymond. And today is October 15, 2023. We'll begin the seminar at 9.45am sharp. So please be seated by then. The topic ethics in artificial intelligence will be discussed in three parts. Each lasting approximately 25 minutes. Make sure to review chapter 7. Buies in machine learning models before we begin. Remember, the assignment deadline has been extended to November 2. You'll need to submit your reports via the university portal. For attendance, please sign the sheet being passed around by Benjamin O'Connor from the Department of Computer. Signs. If you have any questions, feel free to reach out to me via email. Thank you. And let's get started.\n"
     ]
    }
   ],
   "source": [
    "m = whisper.load_model(\"base\")\n",
    "from gtts import gTTS\n",
    "text = \"\"\"Good morning, everyone. I'm Dr. Alicia Raymond, and today is October 15th, 2023. We'll begin the seminar at 9:45 a.m. sharp, so please be seated by then. The topic, 'Ethics in Artificial Intelligence,' will be discussed in three parts—each lasting approximately 25 minutes.\n",
    "Make sure to review Chapter 7: \"Bias in Machine Learning Models,\" before we begin. Remember, the assignment deadline has been extended to November 2nd. You’ll need to submit your reports via the university portal.\n",
    "For attendance, please sign the sheet being passed around by Benjamin O’Connor from the Department of Computer Science. If you have any questions, feel free to reach out to me via email.\n",
    "Thank you, and let's get started.\"\"\"\n",
    "\n",
    "tts = gTTS(text)\n",
    "a = tts.save(\"english.mp3\")\n",
    "result = m.transcribe(\"english.mp3\",language ='en', verbose=True)\n",
    "print(\"Predicted:\", result[\"text\"])"
   ]
  },
  {
   "cell_type": "code",
   "execution_count": 32,
   "id": "10052c85-1dab-463e-ba72-d63cb85a3f67",
   "metadata": {},
   "outputs": [
    {
     "name": "stderr",
     "output_type": "stream",
     "text": [
      "python(48949) MallocStackLogging: can't turn off malloc stack logging because it was not enabled.\n"
     ]
    },
    {
     "name": "stdout",
     "output_type": "stream",
     "text": [
      "[00:00.000 --> 00:04.000]  کیونہ ہو, کوئی کارے پہلی بار میں صحی نہیں کر باتا ہے\n",
      "[00:04.500 --> 00:05.500]  سبوڑ\n",
      "Predicted:  کیونہ ہو, کوئی کارے پہلی بار میں صحی نہیں کر باتا ہے سبوڑ\n"
     ]
    }
   ],
   "source": [
    "model = whisper.load_model(\"base\")\n",
    "result = m.transcribe(\"10015.mp3\",language ='hi', verbose=True)\n",
    "print(\"Predicted:\", result[\"text\"])"
   ]
  },
  {
   "cell_type": "code",
   "execution_count": 42,
   "id": "0883def9-897b-47c1-9f7f-496b45de1385",
   "metadata": {},
   "outputs": [
    {
     "name": "stdout",
     "output_type": "stream",
     "text": [
      "WER%: 28.57142857142857\n",
      "CER%: 6.214689265536723\n",
      "MER%: 27.586206896551722\n"
     ]
    }
   ],
   "source": [
    "from jiwer import wer, cer, mer\n",
    "\n",
    "actual = \"\"\"Good morning, everyone. I'm Dr. Alicia Raymond, and today is October 15th, 2023. We'll begin the seminar at 9:45 a.m. sharp, so please be seated by then. The topic, 'Ethics in Artificial Intelligence,' will be discussed in three parts—each lasting approximately 25 minutes.\n",
    "Make sure to review Chapter 7: \"Bias in Machine Learning Models,\" before we begin. Remember, the assignment deadline has been extended to November 2nd. You’ll need to submit your reports via the university portal.\n",
    "For attendance, please sign the sheet being passed around by Benjamin O’Connor from the Department of Computer Science. If you have any questions, feel free to reach out to me via email.\n",
    "Thank you, and let's get started.\"\"\"\n",
    "prediction = \"Good morning, everyone. I'm Dr. Alicia Raymond. And today is October 15, 2023. We'll begin the seminar at 9.45am sharp. So please be seated by then. The topic ethics in artificial intelligence will be discussed in three parts. Each lasting approximately 25 minutes. Make sure to review chapter 7. Buies in machine learning models before we begin. Remember, the assignment deadline has been extended to November 2. You'll need to submit your reports via the university portal. For attendance, please sign the sheet being passed around by Benjamin O'Connor from the Department of Computer. Signs. If you have any questions, feel free to reach out to me via email. Thank you. And let's get started.\"\n",
    "wer_base = wer(actual, prediction)*100\n",
    "print(\"WER%:\",wer_base )\n",
    "cer_base = cer(actual, prediction)*100\n",
    "print(\"CER%:\",cer_base )\n",
    "mer_base = mer(actual, prediction)*100\n",
    "print(\"MER%:\",mer_base )"
   ]
  },
  {
   "cell_type": "code",
   "execution_count": 35,
   "id": "697a011c-4766-4b89-b85c-a61fc29cbecc",
   "metadata": {},
   "outputs": [],
   "source": [
    "model = whisper.load_model(\"medium\")"
   ]
  },
  {
   "cell_type": "code",
   "execution_count": 2,
   "id": "b6969900-3d25-4187-8ed9-e081e219189f",
   "metadata": {},
   "outputs": [
    {
     "name": "stderr",
     "output_type": "stream",
     "text": [
      "100%|█████████████████████████████████████| 1.42G/1.42G [16:46<00:00, 1.52MiB/s]\n"
     ]
    },
    {
     "name": "stdout",
     "output_type": "stream",
     "text": [
      "[00:00.000 --> 00:04.000]  क्यों नहो, कोई कारे पहली बार में सही नहीं कर पाता है?\n",
      "Predicted:  क्यों नहो, कोई कारे पहली बार में सही नहीं कर पाता है?\n"
     ]
    }
   ],
   "source": [
    "result = model.transcribe(\"10015.mp3\",language ='hi', verbose=True)\n",
    "print(\"Predicted:\", result[\"text\"])\n"
   ]
  },
  {
   "cell_type": "code",
   "execution_count": 36,
   "id": "954c96f9-ec88-4b9c-93ec-752dfb529b14",
   "metadata": {},
   "outputs": [
    {
     "name": "stderr",
     "output_type": "stream",
     "text": [
      "python(49125) MallocStackLogging: can't turn off malloc stack logging because it was not enabled.\n"
     ]
    },
    {
     "name": "stdout",
     "output_type": "stream",
     "text": [
      "[00:00.000 --> 00:08.640]  Good morning everyone. I'm Dr. Alessia Raymond and today is October 15th, 2023.\n",
      "[00:08.640 --> 00:14.560]  We'll begin the seminar at 9.45am sharp. So please be seated by then.\n",
      "[00:15.120 --> 00:22.160]  The topic, Ethics in Artificial Intelligence, will be discussed in three parts, each lasting\n",
      "[00:22.960 --> 00:30.640]  25 minutes. Make sure to review Chapter 7, Bias in Machine Learning Models, before we begin.\n",
      "[00:31.520 --> 00:37.920]  Remember, the assignment deadline has been extended to November 2nd. You'll need to submit\n",
      "[00:37.920 --> 00:43.920]  your reports via the University Portal. For attendance, please sign the sheet being\n",
      "[00:43.920 --> 00:49.840]  passed around by Benjamin O'Connor from the Department of Computer Science.\n",
      "[00:49.840 --> 00:58.080]  If you have any questions, feel free to reach out to me via email. Thank you. And let's get started.\n",
      "Predicted:  Good morning everyone. I'm Dr. Alessia Raymond and today is October 15th, 2023. We'll begin the seminar at 9.45am sharp. So please be seated by then. The topic, Ethics in Artificial Intelligence, will be discussed in three parts, each lasting 25 minutes. Make sure to review Chapter 7, Bias in Machine Learning Models, before we begin. Remember, the assignment deadline has been extended to November 2nd. You'll need to submit your reports via the University Portal. For attendance, please sign the sheet being passed around by Benjamin O'Connor from the Department of Computer Science. If you have any questions, feel free to reach out to me via email. Thank you. And let's get started.\n"
     ]
    }
   ],
   "source": [
    "from gtts import gTTS\n",
    "text = \"\"\"Good morning, everyone. I'm Dr. Alicia Raymond, and today is October 15th, 2023. We'll begin the seminar at 9:45 a.m. sharp, so please be seated by then. The topic, 'Ethics in Artificial Intelligence,' will be discussed in three parts—each lasting approximately 25 minutes.\n",
    "Make sure to review Chapter 7: \"Bias in Machine Learning Models,\" before we begin. Remember, the assignment deadline has been extended to November 2nd. You’ll need to submit your reports via the university portal.\n",
    "For attendance, please sign the sheet being passed around by Benjamin O’Connor from the Department of Computer Science. If you have any questions, feel free to reach out to me via email.\n",
    "Thank you, and let's get started.\"\"\"\n",
    "tts = gTTS(text)\n",
    "a = tts.save(\"english.mp3\")\n",
    "result = model.transcribe(\"english.mp3\",language ='en', verbose=True)\n",
    "print(\"Predicted:\", result[\"text\"])"
   ]
  },
  {
   "cell_type": "code",
   "execution_count": 43,
   "id": "cb967f94-1d1c-4714-9c70-23d6b338cdaf",
   "metadata": {},
   "outputs": [
    {
     "name": "stdout",
     "output_type": "stream",
     "text": [
      "WER%: 23.214285714285715\n",
      "CER%: 5.790960451977401\n",
      "MER%: 22.608695652173914\n"
     ]
    }
   ],
   "source": [
    "from jiwer import wer, cer, mer\n",
    "\n",
    "actual = \"\"\"Good morning, everyone. I'm Dr. Alicia Raymond, and today is October 15th, 2023. We'll begin the seminar at 9:45 a.m. sharp, so please be seated by then. The topic, 'Ethics in Artificial Intelligence,' will be discussed in three parts—each lasting approximately 25 minutes.\n",
    "Make sure to review Chapter 7: \"Bias in Machine Learning Models,\" before we begin. Remember, the assignment deadline has been extended to November 2nd. You’ll need to submit your reports via the university portal.\n",
    "For attendance, please sign the sheet being passed around by Benjamin O’Connor from the Department of Computer Science. If you have any questions, feel free to reach out to me via email.\n",
    "Thank you, and let's get started.\"\"\"\n",
    "prediction = \"Good morning everyone. I'm Dr. Alessia Raymond and today is October 15th, 2023. We'll begin the seminar at 9.45am sharp. So please be seated by then. The topic, Ethics in Artificial Intelligence, will be discussed in three parts, each lasting 25 minutes. Make sure to review Chapter 7, Bias in Machine Learning Models, before we begin. Remember, the assignment deadline has been extended to November 2nd. You'll need to submit your reports via the University Portal. For attendance, please sign the sheet being passed around by Benjamin O'Connor from the Department of Computer Science. If you have any questions, feel free to reach out to me via email. Thank you. And let's get started.\"\n",
    "\n",
    "wer_medium = wer(actual, prediction)*100\n",
    "print(\"WER%:\",wer_medium )\n",
    "cer_medium = cer(actual, prediction)*100\n",
    "print(\"CER%:\",cer_medium )\n",
    "mer_medium = mer(actual, prediction)*100\n",
    "print(\"MER%:\",mer_medium )"
   ]
  },
  {
   "cell_type": "code",
   "execution_count": 38,
   "id": "1c31536e-27a0-4b2a-ae35-7488a6d605af",
   "metadata": {},
   "outputs": [],
   "source": [
    "model2 = whisper.load_model(\"large\")"
   ]
  },
  {
   "cell_type": "code",
   "execution_count": 9,
   "id": "fd88ec53-a284-4c52-9083-dae21138dfc6",
   "metadata": {},
   "outputs": [
    {
     "name": "stdout",
     "output_type": "stream",
     "text": [
      "[00:00.000 --> 00:03.760]  क्यों ना हो, कोई कार्य पहली बार में सही नहीं कर पाता है.\n",
      "Predicted:  क्यों ना हो, कोई कार्य पहली बार में सही नहीं कर पाता है.\n"
     ]
    }
   ],
   "source": [
    "result = model2.transcribe(\"10015.mp3\",language ='hi', verbose=True)\n",
    "print(\"Predicted:\", result[\"text\"])"
   ]
  },
  {
   "cell_type": "code",
   "execution_count": 40,
   "id": "7481c383-a4e2-4a8e-8395-9f1adbe7a2e7",
   "metadata": {},
   "outputs": [
    {
     "name": "stderr",
     "output_type": "stream",
     "text": [
      "python(25876) MallocStackLogging: can't turn off malloc stack logging because it was not enabled.\n"
     ]
    },
    {
     "name": "stdout",
     "output_type": "stream",
     "text": [
      "[00:00.000 --> 00:08.080]  Good morning, everyone. I'm Dr. Alicia Raymond, and today is October 15, 2023.\n",
      "[00:08.800 --> 00:14.700]  We'll begin the seminar at 9.45 a.m. sharp. So please be seated by then.\n",
      "[00:15.240 --> 00:20.700]  The topic, Ethics in Artificial Intelligence, will be discussed in three parts,\n",
      "[00:21.220 --> 00:27.060]  each lasting approximately 25 minutes. Make sure to review Chapter 7,\n",
      "[00:27.060 --> 00:30.740]  Bias in Machine Learning Models, before we begin.\n",
      "[00:31.640 --> 00:36.140]  Remember, the assignment deadline has been extended to November 2.\n",
      "[00:36.600 --> 00:40.380]  You'll need to submit your reports via the University Portal.\n",
      "[00:41.140 --> 00:45.020]  For attendance, please sign the sheet being passed around by\n",
      "[00:45.020 --> 00:49.340]  Benjamin O'Connor from the Department of Computer Science.\n",
      "[00:49.940 --> 00:54.760]  If you have any questions, feel free to reach out to me via email.\n",
      "[00:54.760 --> 00:56.100]  Thank you.\n",
      "[00:57.060 --> 00:57.720]  Get started.\n",
      "Predicted:  Good morning, everyone. I'm Dr. Alicia Raymond, and today is October 15, 2023. We'll begin the seminar at 9.45 a.m. sharp. So please be seated by then. The topic, Ethics in Artificial Intelligence, will be discussed in three parts, each lasting approximately 25 minutes. Make sure to review Chapter 7, Bias in Machine Learning Models, before we begin. Remember, the assignment deadline has been extended to November 2. You'll need to submit your reports via the University Portal. For attendance, please sign the sheet being passed around by Benjamin O'Connor from the Department of Computer Science. If you have any questions, feel free to reach out to me via email. Thank you. Get started.\n"
     ]
    }
   ],
   "source": [
    "from gtts import gTTS\n",
    "text = \"\"\"Good morning, everyone. I'm Dr. Alicia Raymond, and today is October 15th, 2023. We'll begin the seminar at 9:45 a.m. sharp, so please be seated by then. The topic, 'Ethics in Artificial Intelligence,' will be discussed in three parts—each lasting approximately 25 minutes.\n",
    "Make sure to review Chapter 7: \"Bias in Machine Learning Models,\" before we begin. Remember, the assignment deadline has been extended to November 2nd. You’ll need to submit your reports via the university portal.\n",
    "For attendance, please sign the sheet being passed around by Benjamin O’Connor from the Department of Computer Science. If you have any questions, feel free to reach out to me via email.\n",
    "Thank you, and let's get started.\"\"\"\n",
    "tts = gTTS(text)\n",
    "a = tts.save(\"english.mp3\")\n",
    "result = model2.transcribe(\"english.mp3\",language ='en', verbose=True)\n",
    "print(\"Predicted:\", result[\"text\"])"
   ]
  },
  {
   "cell_type": "code",
   "execution_count": 44,
   "id": "062c9b3f-a81b-40cb-8902-bb334a98c1aa",
   "metadata": {},
   "outputs": [
    {
     "name": "stdout",
     "output_type": "stream",
     "text": [
      "WER%: 21.428571428571427\n",
      "CER%: 4.661016949152542\n",
      "MER%: 20.869565217391305\n"
     ]
    }
   ],
   "source": [
    "from jiwer import wer, cer, mer\n",
    "\n",
    "actual = \"\"\"Good morning, everyone. I'm Dr. Alicia Raymond, and today is October 15th, 2023. We'll begin the seminar at 9:45 a.m. sharp, so please be seated by then. The topic, 'Ethics in Artificial Intelligence,' will be discussed in three parts—each lasting approximately 25 minutes.\n",
    "Make sure to review Chapter 7: \"Bias in Machine Learning Models,\" before we begin. Remember, the assignment deadline has been extended to November 2nd. You’ll need to submit your reports via the university portal.\n",
    "For attendance, please sign the sheet being passed around by Benjamin O’Connor from the Department of Computer Science. If you have any questions, feel free to reach out to me via email.\n",
    "Thank you, and let's get started.\"\"\"\n",
    "prediction = \"Good morning, everyone. I'm Dr. Alicia Raymond, and today is October 15, 2023. We'll begin the seminar at 9.45 a.m. sharp. So please be seated by then. The topic, Ethics in Artificial Intelligence, will be discussed in three parts, each lasting approximately 25 minutes. Make sure to review Chapter 7, Bias in Machine Learning Models, before we begin. Remember, the assignment deadline has been extended to November 2. You'll need to submit your reports via the University Portal. For attendance, please sign the sheet being passed around by Benjamin O'Connor from the Department of Computer Science. If you have any questions, feel free to reach out to me via email. Thank you. Get started.\"\n",
    "wer_large = wer(actual, prediction)*100\n",
    "print(\"WER%:\",wer_large )\n",
    "cer_large = cer(actual, prediction)*100\n",
    "print(\"CER%:\",cer_large )\n",
    "mer_large = mer(actual, prediction)*100\n",
    "print(\"MER%:\",mer_large )"
   ]
  },
  {
   "cell_type": "code",
   "execution_count": 46,
   "id": "6ea3bcc4-3694-4ab5-88d3-6adef529d2ae",
   "metadata": {},
   "outputs": [
    {
     "name": "stdout",
     "output_type": "stream",
     "text": [
      "            Model    WER (%)   CER (%)    MER (%)\n",
      "0   Whisper Large  21.428571  4.661017  20.869565\n",
      "1  Whisper Medium  23.214286  5.790960  22.608696\n",
      "2   Whisper Small  28.571429  6.214689  27.586207\n"
     ]
    }
   ],
   "source": [
    "import pandas as pd\n",
    "\n",
    "data = {\n",
    "    \"Model\": [\"Whisper Large\", \"Whisper Medium\", \"Whisper Small\"],\n",
    "    \"WER (%)\": [wer_large, wer_medium, wer_base],\n",
    "    \"CER (%)\": [cer_large, cer_medium, cer_base],\n",
    "    \"MER (%)\": [mer_large, mer_medium, mer_base]\n",
    "}\n",
    "\n",
    "df = pd.DataFrame(data)\n",
    "print(df)"
   ]
  },
  {
   "cell_type": "code",
   "execution_count": 58,
   "id": "91c10aa5-1480-4e2f-89cc-2d20f46301a3",
   "metadata": {},
   "outputs": [
    {
     "data": {
      "image/png": "[encoded data removed]",
      "text/plain": [
       "<Figure size 800x500 with 1 Axes>"
      ]
     },
     "metadata": {},
     "output_type": "display_data"
    }
   ],
   "source": [
    "import matplotlib.pyplot as plt\n",
    "import numpy as np\n",
    "\n",
    "# Error values — replace with your actual numbers\n",
    "wer_values = [wer_large, wer_medium, wer_base]\n",
    "cer_values = [cer_large, cer_medium, cer_base]\n",
    "mer_values = [mer_large, mer_medium, mer_base]\n",
    "\n",
    "# Model labels\n",
    "models = [\"Whisper Large\", \"Whisper Medium\", \"Whisper Base\"]\n",
    "\n",
    "# Group labels on x-axis\n",
    "metrics = [\"WER\", \"CER\", \"MER\"]\n",
    "\n",
    "# Create 3 groups (WER, CER, MER)\n",
    "x = np.arange(len(metrics))\n",
    "width = 0.25\n",
    "\n",
    "plt.figure(figsize=(8, 5))\n",
    "\n",
    "plt.bar(x - width, [wer_values[0], cer_values[0], mer_values[0]], width, label='Large',color='pink',alpha=0.5)\n",
    "plt.bar(x,         [wer_values[1], cer_values[1], mer_values[1]], width, label='Medium',color='grey',alpha=0.6)\n",
    "plt.bar(x + width, [wer_values[2], cer_values[2], mer_values[2]], width, label='Base',color='Lavender')\n",
    "\n",
    "plt.xticks(x, metrics)\n",
    "plt.ylabel(\"Error Rate (%)\")\n",
    "plt.title(\"Comparison of Whisper Models Across Metrics\")\n",
    "plt.legend()\n",
    "plt.show()\n"
   ]
  },
  {
   "cell_type": "code",
   "execution_count": null,
   "id": "ff8fd27d-f6ec-4771-9a29-61640567ab2c",
   "metadata": {},
   "outputs": [],
   "source": []
  }
 ],
 "metadata": {
  "kernelspec": {
   "display_name": "Python [conda env:base] *",
   "language": "python",
   "name": "conda-base-py"
  },
  "language_info": {
   "codemirror_mode": {
    "name": "ipython",
    "version": 3
   },
   "file_extension": ".py",
   "mimetype": "text/x-python",
   "name": "python",
   "nbconvert_exporter": "python",
   "pygments_lexer": "ipython3",
   "version": "3.12.7"
  }
 },
 "nbformat": 4,
 "nbformat_minor": 5
}
