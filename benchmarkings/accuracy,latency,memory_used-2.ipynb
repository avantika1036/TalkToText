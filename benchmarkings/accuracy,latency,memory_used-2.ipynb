{
 "cells": [
  {
   "cell_type": "code",
   "execution_count": 1,
   "id": "aecd15d6-a419-4913-a7ea-b0f9c4434238",
   "metadata": {},
   "outputs": [],
   "source": [
    "import whisper\n",
    "import warnings as w\n",
    "w.filterwarnings('ignore')"
   ]
  },
  {
   "cell_type": "code",
   "execution_count": 2,
   "id": "bb4c6513-f5af-4f82-9b30-ea26b749218e",
   "metadata": {},
   "outputs": [],
   "source": [
    "# from previous calculations\n",
    "\n",
    "wer_base = 28.57142857142857\n",
    "cer_base = 6.214689265536723\n",
    "mer_base = 27.586206896551722\n",
    "\n",
    "wer_medium = 23.214285714285715\n",
    "cer_medium = 5.790960451977401\n",
    "mer_medium = 22.608695652173914\n",
    "\n",
    "wer_large = 21.428571428571427\n",
    "cer_large = 4.661016949152542\n",
    "mer_large = 20.869565217391305"
   ]
  },
  {
   "cell_type": "markdown",
   "id": "91303a32-f2e7-457c-82d2-0c24ba627158",
   "metadata": {},
   "source": [
    "#### Accuracy "
   ]
  },
  {
   "cell_type": "code",
   "execution_count": 27,
   "id": "29a20893-06a3-4d96-ad4d-f60256c00cfe",
   "metadata": {},
   "outputs": [
    {
     "name": "stdout",
     "output_type": "stream",
     "text": [
      "\n",
      " Base\n",
      "WER Accuracy (%): 71.42857142857143\n",
      "CER Accuracy (%): 93.78531073446328\n",
      "MER Accuracy (%): 72.41379310344828\n",
      "\n",
      " Medium\n",
      "WER Accuracy (%): 76.78571428571428\n",
      "CER Accuracy (%): 94.2090395480226\n",
      "MER Accuracy (%): 77.3913043478261\n",
      "\n",
      " Large\n",
      "WER Accuracy (%): 78.57142857142857\n",
      "CER Accuracy (%): 95.33898305084746\n",
      "MER Accuracy (%): 79.13043478260869\n"
     ]
    }
   ],
   "source": [
    "# base\n",
    "print('\\n Base')\n",
    "wer_accuracy = 100 - wer_base\n",
    "cer_accuracy = 100 - cer_base\n",
    "mer_accuracy = 100 - mer_base\n",
    "accuracy_base = wer_accuracy\n",
    "print(\"WER Accuracy (%):\", wer_accuracy)\n",
    "print(\"CER Accuracy (%):\", cer_accuracy)\n",
    "print(\"MER Accuracy (%):\", mer_accuracy)\n",
    "\n",
    "# medium\n",
    "print('\\n Medium')\n",
    "wer_accuracy = 100 - wer_medium\n",
    "cer_accuracy = 100 - cer_medium\n",
    "mer_accuracy = 100 - mer_medium\n",
    "accuracy_medium = wer_accuracy\n",
    "print(\"WER Accuracy (%):\", wer_accuracy)\n",
    "print(\"CER Accuracy (%):\", cer_accuracy)\n",
    "print(\"MER Accuracy (%):\", mer_accuracy)\n",
    "\n",
    "# large\n",
    "print('\\n Large')\n",
    "wer_accuracy = 100 - wer_large\n",
    "cer_accuracy = 100 - cer_large\n",
    "mer_accuracy = 100 - mer_large\n",
    "accuracy_large = wer_accuracy\n",
    "print(\"WER Accuracy (%):\", wer_accuracy)\n",
    "print(\"CER Accuracy (%):\", cer_accuracy)\n",
    "print(\"MER Accuracy (%):\", mer_accuracy)"
   ]
  },
  {
   "cell_type": "markdown",
   "id": "71ace6eb-8e86-4781-a69e-c558fdfa2259",
   "metadata": {},
   "source": [
    "#### Latency "
   ]
  },
  {
   "cell_type": "code",
   "execution_count": 14,
   "id": "04d80ceb-5da3-42eb-9b76-7137de15816d",
   "metadata": {},
   "outputs": [
    {
     "name": "stderr",
     "output_type": "stream",
     "text": [
      "python(40798) MallocStackLogging: can't turn off malloc stack logging because it was not enabled.\n"
     ]
    },
    {
     "name": "stdout",
     "output_type": "stream",
     "text": [
      "1.9758861064910889\n"
     ]
    }
   ],
   "source": [
    "import time\n",
    "\n",
    "#base\n",
    "model = whisper.load_model(\"base\")\n",
    "\n",
    "start_time = time.time()\n",
    "result = model.transcribe(\"english.mp3\")\n",
    "end_time = time.time()\n",
    "latency1 = end_time - start_time\n",
    "print (latency1)"
   ]
  },
  {
   "cell_type": "code",
   "execution_count": 13,
   "id": "ab47e711-859b-48f4-b2e0-71cb1d9cf21d",
   "metadata": {},
   "outputs": [
    {
     "name": "stderr",
     "output_type": "stream",
     "text": [
      "python(40732) MallocStackLogging: can't turn off malloc stack logging because it was not enabled.\n"
     ]
    },
    {
     "name": "stdout",
     "output_type": "stream",
     "text": [
      "70.91177701950073\n"
     ]
    }
   ],
   "source": [
    "#medium\n",
    "model = whisper.load_model(\"medium\")\n",
    "\n",
    "start_time = time.time()\n",
    "result = model.transcribe(\"english.mp3\")\n",
    "end_time = time.time()\n",
    "\n",
    "latency2 = end_time - start_time\n",
    "print (latency2)"
   ]
  },
  {
   "cell_type": "code",
   "execution_count": 10,
   "id": "afd001cc-2fd0-48d3-9bfb-68a1d4475dbd",
   "metadata": {},
   "outputs": [
    {
     "name": "stdout",
     "output_type": "stream",
     "text": [
      "697.3002450466156\n"
     ]
    }
   ],
   "source": [
    "#large\n",
    "import time\n",
    "model = whisper.load_model(\"large\")\n",
    "\n",
    "start_time = time.time()\n",
    "result = model.transcribe(\"english.mp3\")\n",
    "end_time = time.time()\n",
    "\n",
    "latency = end_time - start_time\n",
    "print (latency)"
   ]
  },
  {
   "cell_type": "markdown",
   "id": "2aa5c36f-5608-4a98-b9b5-83ff32e7cb8f",
   "metadata": {},
   "source": [
    "#### Memory Used"
   ]
  },
  {
   "cell_type": "code",
   "execution_count": 37,
   "id": "21cc2c4c-7e69-4559-ba0f-d68b5500844f",
   "metadata": {},
   "outputs": [
    {
     "name": "stdout",
     "output_type": "stream",
     "text": [
      "425.921875\n"
     ]
    }
   ],
   "source": [
    "import psutil\n",
    "import os\n",
    "import gc\n",
    "import torch\n",
    "# Base\n",
    "del model\n",
    "gc.collect()\n",
    "torch.cuda.empty_cache()\n",
    "\n",
    "process = psutil.Process(os.getpid())\n",
    "mem_before = process.memory_info().rss / (1024 * 1024) \n",
    "model = whisper.load_model(\"base\")\n",
    "mem_after = process.memory_info().rss / (1024 * 1024)  \n",
    "mem_base = mem_after-mem_before\n",
    "print(mem_base)\n"
   ]
  },
  {
   "cell_type": "code",
   "execution_count": 38,
   "id": "be6f3597-9029-4806-ade4-72c75216f021",
   "metadata": {},
   "outputs": [
    {
     "name": "stdout",
     "output_type": "stream",
     "text": [
      "429.5625\n"
     ]
    }
   ],
   "source": [
    "# Medium\n",
    "del model\n",
    "gc.collect()\n",
    "torch.cuda.empty_cache()\n",
    "\n",
    "process = psutil.Process(os.getpid())\n",
    "mem_before = process.memory_info().rss / (1024 * 1024) \n",
    "model = whisper.load_model(\"medium\")\n",
    "mem_after = process.memory_info().rss / (1024 * 1024)  \n",
    "mem_medium = mem_after-mem_before\n",
    "print(mem_medium)"
   ]
  },
  {
   "cell_type": "code",
   "execution_count": 42,
   "id": "a778548b-fc6f-42eb-840e-bde3c388ad8a",
   "metadata": {},
   "outputs": [
    {
     "name": "stderr",
     "output_type": "stream",
     "text": [
      "python(42682) MallocStackLogging: can't turn off malloc stack logging because it was not enabled.\n"
     ]
    },
    {
     "name": "stdout",
     "output_type": "stream",
     "text": [
      "3360.5\n"
     ]
    }
   ],
   "source": [
    "# Large\n",
    "del model\n",
    "gc.collect()\n",
    "torch.cuda.empty_cache()\n",
    "\n",
    "process = psutil.Process(os.getpid())\n",
    "mem_before = process.memory_info().rss / (1024 * 1024) \n",
    "model = whisper.load_model(\"large\")\n",
    "mem_after = process.memory_info().rss / (1024 * 1024)  \n",
    "mem_large = mem_after-mem_before\n",
    "print(mem_large)"
   ]
  },
  {
   "cell_type": "code",
   "execution_count": 43,
   "id": "29546dff-6f0d-4acf-941f-167977015ecd",
   "metadata": {},
   "outputs": [
    {
     "name": "stdout",
     "output_type": "stream",
     "text": [
      "            Model   Accuracy     Latency   MemoryUsed\n",
      "0    Whisper Base  71.428571    1.975886   425.921875\n",
      "1  Whisper Medium  76.785714   70.911777   429.562500\n",
      "2   Whisper Large  78.571429  697.300245  3360.500000\n"
     ]
    }
   ],
   "source": [
    "import pandas as pd\n",
    "\n",
    "data = {\n",
    "    \"Model\": [\"Whisper Base\", \"Whisper Medium\", \"Whisper Large\"],\n",
    "    \"Accuracy\": [accuracy_base, accuracy_medium, accuracy_large],\n",
    "    \"Latency\": [latency1, latency2, latency],\n",
    "    \"MemoryUsed\": [mem_base, mem_medium, mem_large]\n",
    "}\n",
    "\n",
    "df = pd.DataFrame(data)\n",
    "print(df)"
   ]
  },
  {
   "cell_type": "code",
   "execution_count": 61,
   "id": "58a97ba4-359a-43f3-887b-5c46b68b9cc0",
   "metadata": {},
   "outputs": [
    {
     "data": {
      "image/png": "[encoded data removed]",
      "text/plain": [
       "<Figure size 800x500 with 1 Axes>"
      ]
     },
     "metadata": {},
     "output_type": "display_data"
    }
   ],
   "source": [
    "import matplotlib.pyplot as plt\n",
    "import numpy as np\n",
    "\n",
    "Accuracy_values = [accuracy_large*35, accuracy_medium*5, accuracy_base*25]  # Scaling\n",
    "Latency_values  = [latency*5, latency2*5, latency1*5]\n",
    "MemoryUsed_values = [mem_large, mem_medium, mem_base]\n",
    "\n",
    "\n",
    "models = [\"Whisper Base\", \"Whisper Medium\", \"Whisper Large\"]\n",
    "\n",
    "metrics = [\"Accuracy\", \"Latency\", \"Memory Used\"]\n",
    "\n",
    "x = np.arange(len(metrics))\n",
    "width = 0.25\n",
    "\n",
    "plt.figure(figsize=(8, 5))\n",
    "\n",
    "plt.bar(x - width, [Accuracy_values[0], Latency_values[0], MemoryUsed_values[0]], width, label='Large',color='pink',alpha=0.5)\n",
    "plt.bar(x,         [Accuracy_values[1], Latency_values[1], MemoryUsed_values[1]], width, label='Medium',color='grey',alpha=0.6)\n",
    "plt.bar(x + width, [Accuracy_values[2], Latency_values[2], MemoryUsed_values[2]], width, label='Base',color='Lavender')\n",
    "\n",
    "plt.xticks(x, metrics)\n",
    "plt.title(\"Comparison of Whisper Models Across Metrics\")\n",
    "plt.legend()\n",
    "plt.show()\n"
   ]
  },
  {
   "cell_type": "code",
   "execution_count": null,
   "id": "0f5e1a2c-b970-4d2c-a9d4-c22f035859e1",
   "metadata": {},
   "outputs": [],
   "source": []
  },
  {
   "cell_type": "code",
   "execution_count": null,
   "id": "cac14e8c-6519-475c-a2aa-877889bc3547",
   "metadata": {},
   "outputs": [],
   "source": []
  }
 ],
 "metadata": {
  "kernelspec": {
   "display_name": "Python [conda env:base] *",
   "language": "python",
   "name": "conda-base-py"
  },
  "language_info": {
   "codemirror_mode": {
    "name": "ipython",
    "version": 3
   },
   "file_extension": ".py",
   "mimetype": "text/x-python",
   "name": "python",
   "nbconvert_exporter": "python",
   "pygments_lexer": "ipython3",
   "version": "3.12.7"
  }
 },
 "nbformat": 4,
 "nbformat_minor": 5
}
